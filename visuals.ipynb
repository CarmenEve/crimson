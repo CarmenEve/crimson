{
 "cells": [
  {
   "cell_type": "code",
   "metadata": {
    "tags": [],
    "cell_id": "00000-99fb40f3-244a-4c0a-adfa-bf89dfb76211",
    "output_cleared": false,
    "source_hash": "cd8ac8e6",
    "execution_millis": 240,
    "deepnote_to_be_reexecuted": false,
    "execution_start": 1613274051566,
    "deepnote_cell_type": "code"
   },
   "source": "import matplotlib.pyplot as plt\nimport numpy as np\nimport pandas as pd\nimport json\n",
   "execution_count": null,
   "outputs": []
  },
  {
   "cell_type": "code",
   "metadata": {
    "tags": [],
    "cell_id": "00001-fa1c926d-5faa-41e6-a414-4512a85ba6b3",
    "output_cleared": false,
    "source_hash": "140720b",
    "execution_millis": 1,
    "deepnote_to_be_reexecuted": false,
    "execution_start": 1613274051810,
    "deepnote_cell_type": "code"
   },
   "source": "plt.style.use('ggplot')",
   "execution_count": null,
   "outputs": []
  },
  {
   "cell_type": "code",
   "metadata": {
    "tags": [],
    "cell_id": "00002-b5af9c7a-6631-4a63-b270-74d3f5bea502",
    "output_cleared": false,
    "source_hash": "9184cf9e",
    "execution_millis": 13,
    "deepnote_to_be_reexecuted": false,
    "execution_start": 1613274051814,
    "deepnote_cell_type": "code"
   },
   "source": "with open('cleaned_entities.json', 'r') as f:\n    cej = json.loads(f.read())",
   "execution_count": null,
   "outputs": []
  },
  {
   "cell_type": "code",
   "metadata": {
    "tags": [],
    "cell_id": "00003-ea40c84d-76dd-4043-98bb-a7ba90c0228a",
    "output_cleared": false,
    "source_hash": "8e116015",
    "execution_millis": 8,
    "deepnote_to_be_reexecuted": false,
    "execution_start": 1613274051829,
    "deepnote_cell_type": "code"
   },
   "source": "for row in cej:\n    print(row)\n    break\n    ",
   "execution_count": null,
   "outputs": [
    {
     "name": "stdout",
     "text": "{'year': '2016', 'month': '1', 'day': '10', 'slug': 'wice-2016-cornell-colgate', 'url': 'https://www.thecrimson.com/article/2016/1/10/wice-2016-cornell-colgate/\\n', 'named_entities': ['Grace Zarzecki']}\n",
     "output_type": "stream"
    }
   ]
  },
  {
   "cell_type": "code",
   "metadata": {
    "tags": [],
    "cell_id": "00004-00ec33b1-14b1-4c42-b634-004f0927b9fe",
    "output_cleared": false,
    "source_hash": "46744ac2",
    "execution_millis": 42,
    "deepnote_to_be_reexecuted": false,
    "execution_start": 1613274051842,
    "deepnote_cell_type": "code"
   },
   "source": "numMentions = {}\nfor row in cej:\n    for person in row['named_entities']:\n        cleanName = person.split()[0].lower() + ' ' + person.split()[-1].lower()\n        if cleanName not in numMentions:\n            numMentions[cleanName] = 1\n        else:\n            numMentions[cleanName] += 1",
   "execution_count": null,
   "outputs": []
  },
  {
   "cell_type": "code",
   "metadata": {
    "tags": [],
    "cell_id": "00005-b61d78a3-7991-44c3-a9cf-f0aee82a325c",
    "output_cleared": false,
    "source_hash": "75872ba9",
    "execution_millis": 4,
    "deepnote_to_be_reexecuted": false,
    "execution_start": 1613274051885,
    "deepnote_cell_type": "code"
   },
   "source": "print(max(numMentions[p] for p in numMentions))",
   "execution_count": null,
   "outputs": [
    {
     "name": "stdout",
     "text": "237\n",
     "output_type": "stream"
    }
   ]
  },
  {
   "cell_type": "code",
   "metadata": {
    "tags": [],
    "cell_id": "00006-d26ec7c3-05f8-4b1c-94de-b56b630a2c73",
    "output_cleared": false,
    "source_hash": "1407c34c",
    "execution_millis": 0,
    "deepnote_to_be_reexecuted": false,
    "execution_start": 1613274051885,
    "deepnote_cell_type": "code"
   },
   "source": "fbdf = pd.read_csv('facebook.csv')\nteamsdf = pd.read_csv('teams.csv')\nwritersdf = pd.read_csv('writers.csv')",
   "execution_count": null,
   "outputs": []
  },
  {
   "cell_type": "code",
   "metadata": {
    "tags": [],
    "cell_id": "00007-e6ae829e-615f-4d7a-bb9d-1fc42d049ba9",
    "output_cleared": false,
    "source_hash": "6520dca5",
    "execution_millis": 5,
    "deepnote_to_be_reexecuted": false,
    "execution_start": 1613274051903,
    "deepnote_cell_type": "code"
   },
   "source": "fbdf.head()",
   "execution_count": null,
   "outputs": [
    {
     "output_type": "execute_result",
     "execution_count": 8,
     "data": {
      "application/vnd.deepnote.dataframe.v2+json": {
       "row_count": 5,
       "column_count": 7,
       "columns": [
        {
         "name": "First Name",
         "dtype": "object",
         "stats": {
          "unique_count": 5,
          "nan_count": 0,
          "categories": [
           {
            "name": "Aishani",
            "count": 1
           },
           {
            "name": "Aaron",
            "count": 1
           },
           {
            "name": "3 others",
            "count": 3
           }
          ]
         }
        },
        {
         "name": "Last Name",
         "dtype": "object",
         "stats": {
          "unique_count": 5,
          "nan_count": 0,
          "categories": [
           {
            "name": "Aatresh",
            "count": 1
           },
           {
            "name": "Abai",
            "count": 1
           },
           {
            "name": "3 others",
            "count": 3
           }
          ]
         }
        },
        {
         "name": "Email",
         "dtype": "object",
         "stats": {
          "unique_count": 4,
          "nan_count": 1,
          "categories": [
           {
            "name": "aishaniaatresh@college",
            "count": 1
           },
           {
            "name": "3 others",
            "count": 3
           },
           {
            "name": "Missing",
            "count": 1
           }
          ]
         }
        },
        {
         "name": "Phone",
         "dtype": "object",
         "stats": {
          "unique_count": 0,
          "nan_count": 5,
          "categories": [
           {
            "name": "Missing",
            "count": 5
           }
          ]
         }
        },
        {
         "name": "House",
         "dtype": "object",
         "stats": {
          "unique_count": 2,
          "nan_count": 2,
          "categories": [
           {
            "name": "Mather",
            "count": 2
           },
           {
            "name": "Pforzheimer",
            "count": 1
           },
           {
            "name": "Missing",
            "count": 2
           }
          ]
         }
        },
        {
         "name": "Assigned House",
         "dtype": "object",
         "stats": {
          "unique_count": 1,
          "nan_count": 4,
          "categories": [
           {
            "name": "Pforzheimer",
            "count": 1
           },
           {
            "name": "Missing",
            "count": 4
           }
          ]
         }
        },
        {
         "name": "Year",
         "dtype": "object",
         "stats": {
          "unique_count": 3,
          "nan_count": 0,
          "categories": [
           {
            "name": "First-Year",
            "count": 2
           },
           {
            "name": "Sophomore",
            "count": 2
           },
           {
            "name": "Junior",
            "count": 1
           }
          ]
         }
        },
        {
         "name": "_deepnote_index_column",
         "dtype": "int64"
        }
       ],
       "rows_top": [
        {
         "First Name": "Aishani",
         "Last Name": "Aatresh",
         "Email": "aishaniaatresh@college",
         "Phone": "nan",
         "House": "nan",
         "Assigned House": "nan",
         "Year": "First-Year",
         "_deepnote_index_column": 0
        },
        {
         "First Name": "Aaron",
         "Last Name": "Abai",
         "Email": "aaronabai@college",
         "Phone": "nan",
         "House": "Mather",
         "Assigned House": "nan",
         "Year": "Junior",
         "_deepnote_index_column": 1
        },
        {
         "First Name": "Kian",
         "Last Name": "Abbott",
         "Email": "kianabbott@college",
         "Phone": "nan",
         "House": "Pforzheimer",
         "Assigned House": "Pforzheimer",
         "Year": "Sophomore",
         "_deepnote_index_column": 2
        },
        {
         "First Name": "Julia",
         "Last Name": "Abbruzzese",
         "Email": "juliaabbruzzese@college",
         "Phone": "nan",
         "House": "Mather",
         "Assigned House": "nan",
         "Year": "First-Year",
         "_deepnote_index_column": 3
        },
        {
         "First Name": "Hoda",
         "Last Name": "Abdalla",
         "Email": "nan",
         "Phone": "nan",
         "House": "nan",
         "Assigned House": "nan",
         "Year": "Sophomore",
         "_deepnote_index_column": 4
        }
       ],
       "rows_bottom": null
      },
      "text/plain": "  First Name   Last Name                    Email Phone        House  \\\n0    Aishani     Aatresh   aishaniaatresh@college   NaN          NaN   \n1      Aaron        Abai        aaronabai@college   NaN       Mather   \n2       Kian      Abbott       kianabbott@college   NaN  Pforzheimer   \n3      Julia  Abbruzzese  juliaabbruzzese@college   NaN       Mather   \n4       Hoda     Abdalla                      NaN   NaN          NaN   \n\n  Assigned House        Year  \n0            NaN  First-Year  \n1            NaN      Junior  \n2    Pforzheimer   Sophomore  \n3            NaN  First-Year  \n4            NaN   Sophomore  ",
      "text/html": "<div>\n<style scoped>\n    .dataframe tbody tr th:only-of-type {\n        vertical-align: middle;\n    }\n\n    .dataframe tbody tr th {\n        vertical-align: top;\n    }\n\n    .dataframe thead th {\n        text-align: right;\n    }\n</style>\n<table border=\"1\" class=\"dataframe\">\n  <thead>\n    <tr style=\"text-align: right;\">\n      <th></th>\n      <th>First Name</th>\n      <th>Last Name</th>\n      <th>Email</th>\n      <th>Phone</th>\n      <th>House</th>\n      <th>Assigned House</th>\n      <th>Year</th>\n    </tr>\n  </thead>\n  <tbody>\n    <tr>\n      <th>0</th>\n      <td>Aishani</td>\n      <td>Aatresh</td>\n      <td>aishaniaatresh@college</td>\n      <td>NaN</td>\n      <td>NaN</td>\n      <td>NaN</td>\n      <td>First-Year</td>\n    </tr>\n    <tr>\n      <th>1</th>\n      <td>Aaron</td>\n      <td>Abai</td>\n      <td>aaronabai@college</td>\n      <td>NaN</td>\n      <td>Mather</td>\n      <td>NaN</td>\n      <td>Junior</td>\n    </tr>\n    <tr>\n      <th>2</th>\n      <td>Kian</td>\n      <td>Abbott</td>\n      <td>kianabbott@college</td>\n      <td>NaN</td>\n      <td>Pforzheimer</td>\n      <td>Pforzheimer</td>\n      <td>Sophomore</td>\n    </tr>\n    <tr>\n      <th>3</th>\n      <td>Julia</td>\n      <td>Abbruzzese</td>\n      <td>juliaabbruzzese@college</td>\n      <td>NaN</td>\n      <td>Mather</td>\n      <td>NaN</td>\n      <td>First-Year</td>\n    </tr>\n    <tr>\n      <th>4</th>\n      <td>Hoda</td>\n      <td>Abdalla</td>\n      <td>NaN</td>\n      <td>NaN</td>\n      <td>NaN</td>\n      <td>NaN</td>\n      <td>Sophomore</td>\n    </tr>\n  </tbody>\n</table>\n</div>"
     },
     "metadata": {}
    }
   ]
  },
  {
   "cell_type": "code",
   "metadata": {
    "tags": [],
    "cell_id": "00008-ed5bd03d-d05d-43d6-b68e-cb81fd66a24b",
    "output_cleared": false,
    "source_hash": "df08c5b5",
    "execution_millis": 8,
    "deepnote_to_be_reexecuted": false,
    "execution_start": 1613274051904,
    "deepnote_cell_type": "code"
   },
   "source": "fbdf['cleanName'] = fbdf['First Name'].str.lower() + ' ' + fbdf['Last Name'].str.lower()",
   "execution_count": null,
   "outputs": []
  },
  {
   "cell_type": "code",
   "metadata": {
    "tags": [],
    "cell_id": "00009-4ef06f8e-9216-4ec0-938c-1feefcdd3bbb",
    "output_cleared": false,
    "source_hash": "b6dea444",
    "execution_millis": 3,
    "deepnote_to_be_reexecuted": false,
    "execution_start": 1613274051918,
    "deepnote_cell_type": "code"
   },
   "source": "fbdf['Year'] = fbdf['Year'].replace(['First-Year'],'Class of 2024')\nfbdf['Year'] = fbdf['Year'].replace(['Sophomore'],'Class of 2023')\nfbdf['Year'] = fbdf['Year'].replace(['Junior'],'Class of 2022')\nfbdf['Year'] = fbdf['Year'].replace(['Senior'],'Class of 2021')\n\n",
   "execution_count": null,
   "outputs": []
  },
  {
   "cell_type": "code",
   "metadata": {
    "tags": [],
    "cell_id": "00009-083894d9-43bc-47dd-8212-585b8ab8c67d",
    "output_cleared": false,
    "source_hash": "6520dca5",
    "execution_millis": 8,
    "deepnote_to_be_reexecuted": false,
    "execution_start": 1613274051950,
    "deepnote_cell_type": "code"
   },
   "source": "fbdf.head()",
   "execution_count": null,
   "outputs": [
    {
     "output_type": "execute_result",
     "execution_count": 11,
     "data": {
      "application/vnd.deepnote.dataframe.v2+json": {
       "row_count": 5,
       "column_count": 8,
       "columns": [
        {
         "name": "First Name",
         "dtype": "object",
         "stats": {
          "unique_count": 5,
          "nan_count": 0,
          "categories": [
           {
            "name": "Aishani",
            "count": 1
           },
           {
            "name": "Aaron",
            "count": 1
           },
           {
            "name": "3 others",
            "count": 3
           }
          ]
         }
        },
        {
         "name": "Last Name",
         "dtype": "object",
         "stats": {
          "unique_count": 5,
          "nan_count": 0,
          "categories": [
           {
            "name": "Aatresh",
            "count": 1
           },
           {
            "name": "Abai",
            "count": 1
           },
           {
            "name": "3 others",
            "count": 3
           }
          ]
         }
        },
        {
         "name": "Email",
         "dtype": "object",
         "stats": {
          "unique_count": 4,
          "nan_count": 1,
          "categories": [
           {
            "name": "aishaniaatresh@college",
            "count": 1
           },
           {
            "name": "3 others",
            "count": 3
           },
           {
            "name": "Missing",
            "count": 1
           }
          ]
         }
        },
        {
         "name": "Phone",
         "dtype": "object",
         "stats": {
          "unique_count": 0,
          "nan_count": 5,
          "categories": [
           {
            "name": "Missing",
            "count": 5
           }
          ]
         }
        },
        {
         "name": "House",
         "dtype": "object",
         "stats": {
          "unique_count": 2,
          "nan_count": 2,
          "categories": [
           {
            "name": "Mather",
            "count": 2
           },
           {
            "name": "Pforzheimer",
            "count": 1
           },
           {
            "name": "Missing",
            "count": 2
           }
          ]
         }
        },
        {
         "name": "Assigned House",
         "dtype": "object",
         "stats": {
          "unique_count": 1,
          "nan_count": 4,
          "categories": [
           {
            "name": "Pforzheimer",
            "count": 1
           },
           {
            "name": "Missing",
            "count": 4
           }
          ]
         }
        },
        {
         "name": "Year",
         "dtype": "object",
         "stats": {
          "unique_count": 3,
          "nan_count": 0,
          "categories": [
           {
            "name": "Class of 2024",
            "count": 2
           },
           {
            "name": "Class of 2023",
            "count": 2
           },
           {
            "name": "Class of 2022",
            "count": 1
           }
          ]
         }
        },
        {
         "name": "cleanName",
         "dtype": "object",
         "stats": {
          "unique_count": 5,
          "nan_count": 0,
          "categories": [
           {
            "name": "aishani aatresh",
            "count": 1
           },
           {
            "name": "aaron abai",
            "count": 1
           },
           {
            "name": "3 others",
            "count": 3
           }
          ]
         }
        },
        {
         "name": "_deepnote_index_column",
         "dtype": "int64"
        }
       ],
       "rows_top": [
        {
         "First Name": "Aishani",
         "Last Name": "Aatresh",
         "Email": "aishaniaatresh@college",
         "Phone": "nan",
         "House": "nan",
         "Assigned House": "nan",
         "Year": "Class of 2024",
         "cleanName": "aishani aatresh",
         "_deepnote_index_column": 0
        },
        {
         "First Name": "Aaron",
         "Last Name": "Abai",
         "Email": "aaronabai@college",
         "Phone": "nan",
         "House": "Mather",
         "Assigned House": "nan",
         "Year": "Class of 2022",
         "cleanName": "aaron abai",
         "_deepnote_index_column": 1
        },
        {
         "First Name": "Kian",
         "Last Name": "Abbott",
         "Email": "kianabbott@college",
         "Phone": "nan",
         "House": "Pforzheimer",
         "Assigned House": "Pforzheimer",
         "Year": "Class of 2023",
         "cleanName": "kian abbott",
         "_deepnote_index_column": 2
        },
        {
         "First Name": "Julia",
         "Last Name": "Abbruzzese",
         "Email": "juliaabbruzzese@college",
         "Phone": "nan",
         "House": "Mather",
         "Assigned House": "nan",
         "Year": "Class of 2024",
         "cleanName": "julia abbruzzese",
         "_deepnote_index_column": 3
        },
        {
         "First Name": "Hoda",
         "Last Name": "Abdalla",
         "Email": "nan",
         "Phone": "nan",
         "House": "nan",
         "Assigned House": "nan",
         "Year": "Class of 2023",
         "cleanName": "hoda abdalla",
         "_deepnote_index_column": 4
        }
       ],
       "rows_bottom": null
      },
      "text/plain": "  First Name   Last Name                    Email Phone        House  \\\n0    Aishani     Aatresh   aishaniaatresh@college   NaN          NaN   \n1      Aaron        Abai        aaronabai@college   NaN       Mather   \n2       Kian      Abbott       kianabbott@college   NaN  Pforzheimer   \n3      Julia  Abbruzzese  juliaabbruzzese@college   NaN       Mather   \n4       Hoda     Abdalla                      NaN   NaN          NaN   \n\n  Assigned House           Year         cleanName  \n0            NaN  Class of 2024   aishani aatresh  \n1            NaN  Class of 2022        aaron abai  \n2    Pforzheimer  Class of 2023       kian abbott  \n3            NaN  Class of 2024  julia abbruzzese  \n4            NaN  Class of 2023      hoda abdalla  ",
      "text/html": "<div>\n<style scoped>\n    .dataframe tbody tr th:only-of-type {\n        vertical-align: middle;\n    }\n\n    .dataframe tbody tr th {\n        vertical-align: top;\n    }\n\n    .dataframe thead th {\n        text-align: right;\n    }\n</style>\n<table border=\"1\" class=\"dataframe\">\n  <thead>\n    <tr style=\"text-align: right;\">\n      <th></th>\n      <th>First Name</th>\n      <th>Last Name</th>\n      <th>Email</th>\n      <th>Phone</th>\n      <th>House</th>\n      <th>Assigned House</th>\n      <th>Year</th>\n      <th>cleanName</th>\n    </tr>\n  </thead>\n  <tbody>\n    <tr>\n      <th>0</th>\n      <td>Aishani</td>\n      <td>Aatresh</td>\n      <td>aishaniaatresh@college</td>\n      <td>NaN</td>\n      <td>NaN</td>\n      <td>NaN</td>\n      <td>Class of 2024</td>\n      <td>aishani aatresh</td>\n    </tr>\n    <tr>\n      <th>1</th>\n      <td>Aaron</td>\n      <td>Abai</td>\n      <td>aaronabai@college</td>\n      <td>NaN</td>\n      <td>Mather</td>\n      <td>NaN</td>\n      <td>Class of 2022</td>\n      <td>aaron abai</td>\n    </tr>\n    <tr>\n      <th>2</th>\n      <td>Kian</td>\n      <td>Abbott</td>\n      <td>kianabbott@college</td>\n      <td>NaN</td>\n      <td>Pforzheimer</td>\n      <td>Pforzheimer</td>\n      <td>Class of 2023</td>\n      <td>kian abbott</td>\n    </tr>\n    <tr>\n      <th>3</th>\n      <td>Julia</td>\n      <td>Abbruzzese</td>\n      <td>juliaabbruzzese@college</td>\n      <td>NaN</td>\n      <td>Mather</td>\n      <td>NaN</td>\n      <td>Class of 2024</td>\n      <td>julia abbruzzese</td>\n    </tr>\n    <tr>\n      <th>4</th>\n      <td>Hoda</td>\n      <td>Abdalla</td>\n      <td>NaN</td>\n      <td>NaN</td>\n      <td>NaN</td>\n      <td>NaN</td>\n      <td>Class of 2023</td>\n      <td>hoda abdalla</td>\n    </tr>\n  </tbody>\n</table>\n</div>"
     },
     "metadata": {}
    }
   ]
  },
  {
   "cell_type": "code",
   "metadata": {
    "tags": [],
    "cell_id": "00008-1a2cbb20-ddc9-4c4a-a650-3496543fd0c0",
    "output_cleared": false,
    "source_hash": "7d4e8b22",
    "execution_millis": 6,
    "deepnote_to_be_reexecuted": false,
    "execution_start": 1613274051961,
    "deepnote_cell_type": "code"
   },
   "source": "teamsdf.head()",
   "execution_count": null,
   "outputs": [
    {
     "output_type": "execute_result",
     "execution_count": 12,
     "data": {
      "application/vnd.deepnote.dataframe.v2+json": {
       "row_count": 5,
       "column_count": 4,
       "columns": [
        {
         "name": "index",
         "dtype": "int64",
         "stats": {
          "unique_count": 5,
          "nan_count": 0,
          "min": 0,
          "max": 4,
          "histogram": [
           {
            "bin_start": 0,
            "bin_end": 0.4,
            "count": 1
           },
           {
            "bin_start": 0.4,
            "bin_end": 0.8,
            "count": 0
           },
           {
            "bin_start": 0.8,
            "bin_end": 1.2000000000000002,
            "count": 1
           },
           {
            "bin_start": 1.2000000000000002,
            "bin_end": 1.6,
            "count": 0
           },
           {
            "bin_start": 1.6,
            "bin_end": 2,
            "count": 0
           },
           {
            "bin_start": 2,
            "bin_end": 2.4000000000000004,
            "count": 1
           },
           {
            "bin_start": 2.4000000000000004,
            "bin_end": 2.8000000000000003,
            "count": 0
           },
           {
            "bin_start": 2.8000000000000003,
            "bin_end": 3.2,
            "count": 1
           },
           {
            "bin_start": 3.2,
            "bin_end": 3.6,
            "count": 0
           },
           {
            "bin_start": 3.6,
            "bin_end": 4,
            "count": 1
           }
          ]
         }
        },
        {
         "name": "name",
         "dtype": "object",
         "stats": {
          "unique_count": 5,
          "nan_count": 0,
          "categories": [
           {
            "name": "Anna Burt",
            "count": 1
           },
           {
            "name": "Aislinn Devlin",
            "count": 1
           },
           {
            "name": "3 others",
            "count": 3
           }
          ]
         }
        },
        {
         "name": "team",
         "dtype": "object",
         "stats": {
          "unique_count": 1,
          "nan_count": 0,
          "categories": [
           {
            "name": "cross country",
            "count": 5
           }
          ]
         }
        },
        {
         "name": "gender",
         "dtype": "float64",
         "stats": {
          "unique_count": 1,
          "nan_count": 0,
          "min": 1,
          "max": 1,
          "histogram": [
           {
            "bin_start": 0.5,
            "bin_end": 0.6,
            "count": 0
           },
           {
            "bin_start": 0.6,
            "bin_end": 0.7,
            "count": 0
           },
           {
            "bin_start": 0.7,
            "bin_end": 0.8,
            "count": 0
           },
           {
            "bin_start": 0.8,
            "bin_end": 0.9,
            "count": 0
           },
           {
            "bin_start": 0.9,
            "bin_end": 1,
            "count": 0
           },
           {
            "bin_start": 1,
            "bin_end": 1.1,
            "count": 5
           },
           {
            "bin_start": 1.1,
            "bin_end": 1.2000000000000002,
            "count": 0
           },
           {
            "bin_start": 1.2000000000000002,
            "bin_end": 1.3,
            "count": 0
           },
           {
            "bin_start": 1.3,
            "bin_end": 1.4,
            "count": 0
           },
           {
            "bin_start": 1.4,
            "bin_end": 1.5,
            "count": 0
           }
          ]
         }
        },
        {
         "name": "_deepnote_index_column",
         "dtype": "int64"
        }
       ],
       "rows_top": [
        {
         "index": 0,
         "name": "Anna Burt",
         "team": "cross country",
         "gender": 1,
         "_deepnote_index_column": 0
        },
        {
         "index": 1,
         "name": "Aislinn Devlin",
         "team": "cross country",
         "gender": 1,
         "_deepnote_index_column": 1
        },
        {
         "index": 2,
         "name": "Valentina Doerre Torre",
         "team": "cross country",
         "gender": 1,
         "_deepnote_index_column": 2
        },
        {
         "index": 3,
         "name": "Eloise Freitag",
         "team": "cross country",
         "gender": 1,
         "_deepnote_index_column": 3
        },
        {
         "index": 4,
         "name": "Abbe Goldstein",
         "team": "cross country",
         "gender": 1,
         "_deepnote_index_column": 4
        }
       ],
       "rows_bottom": null
      },
      "text/plain": "   index                    name           team  gender\n0      0               Anna Burt  cross country     1.0\n1      1          Aislinn Devlin  cross country     1.0\n2      2  Valentina Doerre Torre  cross country     1.0\n3      3          Eloise Freitag  cross country     1.0\n4      4          Abbe Goldstein  cross country     1.0",
      "text/html": "<div>\n<style scoped>\n    .dataframe tbody tr th:only-of-type {\n        vertical-align: middle;\n    }\n\n    .dataframe tbody tr th {\n        vertical-align: top;\n    }\n\n    .dataframe thead th {\n        text-align: right;\n    }\n</style>\n<table border=\"1\" class=\"dataframe\">\n  <thead>\n    <tr style=\"text-align: right;\">\n      <th></th>\n      <th>index</th>\n      <th>name</th>\n      <th>team</th>\n      <th>gender</th>\n    </tr>\n  </thead>\n  <tbody>\n    <tr>\n      <th>0</th>\n      <td>0</td>\n      <td>Anna Burt</td>\n      <td>cross country</td>\n      <td>1.0</td>\n    </tr>\n    <tr>\n      <th>1</th>\n      <td>1</td>\n      <td>Aislinn Devlin</td>\n      <td>cross country</td>\n      <td>1.0</td>\n    </tr>\n    <tr>\n      <th>2</th>\n      <td>2</td>\n      <td>Valentina Doerre Torre</td>\n      <td>cross country</td>\n      <td>1.0</td>\n    </tr>\n    <tr>\n      <th>3</th>\n      <td>3</td>\n      <td>Eloise Freitag</td>\n      <td>cross country</td>\n      <td>1.0</td>\n    </tr>\n    <tr>\n      <th>4</th>\n      <td>4</td>\n      <td>Abbe Goldstein</td>\n      <td>cross country</td>\n      <td>1.0</td>\n    </tr>\n  </tbody>\n</table>\n</div>"
     },
     "metadata": {}
    }
   ]
  },
  {
   "cell_type": "code",
   "metadata": {
    "tags": [],
    "cell_id": "00011-ce899242-6e88-4e60-8fe9-96fdfd6d7a09",
    "output_cleared": false,
    "source_hash": "e86cf173",
    "execution_millis": 15,
    "deepnote_to_be_reexecuted": false,
    "execution_start": 1613274051998,
    "deepnote_cell_type": "code"
   },
   "source": "teamsdf['name'].str.split().apply(lambda x: x[0].lower())",
   "execution_count": null,
   "outputs": [
    {
     "output_type": "execute_result",
     "execution_count": 13,
     "data": {
      "text/plain": "0           anna\n1        aislinn\n2      valentina\n3         eloise\n4           abbe\n         ...    \n679          max\n680        derek\n681     mitchell\n682        derek\n683        casey\nName: name, Length: 684, dtype: object"
     },
     "metadata": {}
    }
   ]
  },
  {
   "cell_type": "code",
   "metadata": {
    "tags": [],
    "cell_id": "00011-aaef14c7-ff28-4fe3-b5f1-06824d42b2e8",
    "output_cleared": false,
    "source_hash": "b0dcf374",
    "execution_millis": 1,
    "deepnote_to_be_reexecuted": false,
    "execution_start": 1613274051999,
    "deepnote_cell_type": "code"
   },
   "source": "teamsdf['cleanName'] = teamsdf['name'].str.split().apply(lambda x: x[0].lower()) + ' ' + teamsdf['name'].str.split().apply(lambda x: x[-1].lower())",
   "execution_count": null,
   "outputs": []
  },
  {
   "cell_type": "code",
   "metadata": {
    "tags": [],
    "cell_id": "00013-43bf6299-8674-4b1b-aeb6-a4611304f9ad",
    "output_cleared": false,
    "source_hash": "7d4e8b22",
    "execution_millis": 14,
    "deepnote_to_be_reexecuted": false,
    "execution_start": 1613274052000,
    "deepnote_cell_type": "code"
   },
   "source": "teamsdf.head()",
   "execution_count": null,
   "outputs": [
    {
     "output_type": "execute_result",
     "execution_count": 15,
     "data": {
      "application/vnd.deepnote.dataframe.v2+json": {
       "row_count": 5,
       "column_count": 5,
       "columns": [
        {
         "name": "index",
         "dtype": "int64",
         "stats": {
          "unique_count": 5,
          "nan_count": 0,
          "min": 0,
          "max": 4,
          "histogram": [
           {
            "bin_start": 0,
            "bin_end": 0.4,
            "count": 1
           },
           {
            "bin_start": 0.4,
            "bin_end": 0.8,
            "count": 0
           },
           {
            "bin_start": 0.8,
            "bin_end": 1.2000000000000002,
            "count": 1
           },
           {
            "bin_start": 1.2000000000000002,
            "bin_end": 1.6,
            "count": 0
           },
           {
            "bin_start": 1.6,
            "bin_end": 2,
            "count": 0
           },
           {
            "bin_start": 2,
            "bin_end": 2.4000000000000004,
            "count": 1
           },
           {
            "bin_start": 2.4000000000000004,
            "bin_end": 2.8000000000000003,
            "count": 0
           },
           {
            "bin_start": 2.8000000000000003,
            "bin_end": 3.2,
            "count": 1
           },
           {
            "bin_start": 3.2,
            "bin_end": 3.6,
            "count": 0
           },
           {
            "bin_start": 3.6,
            "bin_end": 4,
            "count": 1
           }
          ]
         }
        },
        {
         "name": "name",
         "dtype": "object",
         "stats": {
          "unique_count": 5,
          "nan_count": 0,
          "categories": [
           {
            "name": "Anna Burt",
            "count": 1
           },
           {
            "name": "Aislinn Devlin",
            "count": 1
           },
           {
            "name": "3 others",
            "count": 3
           }
          ]
         }
        },
        {
         "name": "team",
         "dtype": "object",
         "stats": {
          "unique_count": 1,
          "nan_count": 0,
          "categories": [
           {
            "name": "cross country",
            "count": 5
           }
          ]
         }
        },
        {
         "name": "gender",
         "dtype": "float64",
         "stats": {
          "unique_count": 1,
          "nan_count": 0,
          "min": 1,
          "max": 1,
          "histogram": [
           {
            "bin_start": 0.5,
            "bin_end": 0.6,
            "count": 0
           },
           {
            "bin_start": 0.6,
            "bin_end": 0.7,
            "count": 0
           },
           {
            "bin_start": 0.7,
            "bin_end": 0.8,
            "count": 0
           },
           {
            "bin_start": 0.8,
            "bin_end": 0.9,
            "count": 0
           },
           {
            "bin_start": 0.9,
            "bin_end": 1,
            "count": 0
           },
           {
            "bin_start": 1,
            "bin_end": 1.1,
            "count": 5
           },
           {
            "bin_start": 1.1,
            "bin_end": 1.2000000000000002,
            "count": 0
           },
           {
            "bin_start": 1.2000000000000002,
            "bin_end": 1.3,
            "count": 0
           },
           {
            "bin_start": 1.3,
            "bin_end": 1.4,
            "count": 0
           },
           {
            "bin_start": 1.4,
            "bin_end": 1.5,
            "count": 0
           }
          ]
         }
        },
        {
         "name": "cleanName",
         "dtype": "object",
         "stats": {
          "unique_count": 5,
          "nan_count": 0,
          "categories": [
           {
            "name": "anna burt",
            "count": 1
           },
           {
            "name": "aislinn devlin",
            "count": 1
           },
           {
            "name": "3 others",
            "count": 3
           }
          ]
         }
        },
        {
         "name": "_deepnote_index_column",
         "dtype": "int64"
        }
       ],
       "rows_top": [
        {
         "index": 0,
         "name": "Anna Burt",
         "team": "cross country",
         "gender": 1,
         "cleanName": "anna burt",
         "_deepnote_index_column": 0
        },
        {
         "index": 1,
         "name": "Aislinn Devlin",
         "team": "cross country",
         "gender": 1,
         "cleanName": "aislinn devlin",
         "_deepnote_index_column": 1
        },
        {
         "index": 2,
         "name": "Valentina Doerre Torre",
         "team": "cross country",
         "gender": 1,
         "cleanName": "valentina torre",
         "_deepnote_index_column": 2
        },
        {
         "index": 3,
         "name": "Eloise Freitag",
         "team": "cross country",
         "gender": 1,
         "cleanName": "eloise freitag",
         "_deepnote_index_column": 3
        },
        {
         "index": 4,
         "name": "Abbe Goldstein",
         "team": "cross country",
         "gender": 1,
         "cleanName": "abbe goldstein",
         "_deepnote_index_column": 4
        }
       ],
       "rows_bottom": null
      },
      "text/plain": "   index                    name           team  gender        cleanName\n0      0               Anna Burt  cross country     1.0        anna burt\n1      1          Aislinn Devlin  cross country     1.0   aislinn devlin\n2      2  Valentina Doerre Torre  cross country     1.0  valentina torre\n3      3          Eloise Freitag  cross country     1.0   eloise freitag\n4      4          Abbe Goldstein  cross country     1.0   abbe goldstein",
      "text/html": "<div>\n<style scoped>\n    .dataframe tbody tr th:only-of-type {\n        vertical-align: middle;\n    }\n\n    .dataframe tbody tr th {\n        vertical-align: top;\n    }\n\n    .dataframe thead th {\n        text-align: right;\n    }\n</style>\n<table border=\"1\" class=\"dataframe\">\n  <thead>\n    <tr style=\"text-align: right;\">\n      <th></th>\n      <th>index</th>\n      <th>name</th>\n      <th>team</th>\n      <th>gender</th>\n      <th>cleanName</th>\n    </tr>\n  </thead>\n  <tbody>\n    <tr>\n      <th>0</th>\n      <td>0</td>\n      <td>Anna Burt</td>\n      <td>cross country</td>\n      <td>1.0</td>\n      <td>anna burt</td>\n    </tr>\n    <tr>\n      <th>1</th>\n      <td>1</td>\n      <td>Aislinn Devlin</td>\n      <td>cross country</td>\n      <td>1.0</td>\n      <td>aislinn devlin</td>\n    </tr>\n    <tr>\n      <th>2</th>\n      <td>2</td>\n      <td>Valentina Doerre Torre</td>\n      <td>cross country</td>\n      <td>1.0</td>\n      <td>valentina torre</td>\n    </tr>\n    <tr>\n      <th>3</th>\n      <td>3</td>\n      <td>Eloise Freitag</td>\n      <td>cross country</td>\n      <td>1.0</td>\n      <td>eloise freitag</td>\n    </tr>\n    <tr>\n      <th>4</th>\n      <td>4</td>\n      <td>Abbe Goldstein</td>\n      <td>cross country</td>\n      <td>1.0</td>\n      <td>abbe goldstein</td>\n    </tr>\n  </tbody>\n</table>\n</div>"
     },
     "metadata": {}
    }
   ]
  },
  {
   "cell_type": "code",
   "metadata": {
    "tags": [],
    "cell_id": "00014-937071fd-a63f-4d73-a9df-c1aab6f14a12",
    "output_cleared": false,
    "source_hash": "ef6c5a",
    "execution_millis": 2,
    "deepnote_to_be_reexecuted": false,
    "execution_start": 1613274052006,
    "deepnote_cell_type": "code"
   },
   "source": "genderDict = dict(zip(teamsdf['cleanName'], teamsdf['gender']))\nteamDict = dict(zip(teamsdf['cleanName'], teamsdf['team']))\nhouseDict = dict(zip(fbdf['cleanName'], fbdf['House']))\nyearDict = dict(zip(fbdf['cleanName'], fbdf['Year']))",
   "execution_count": null,
   "outputs": []
  },
  {
   "cell_type": "code",
   "metadata": {
    "tags": [],
    "cell_id": "00015-4c313329-57dc-439e-aa8d-809bae7d6bda",
    "output_cleared": false,
    "source_hash": "5cc0eebd",
    "execution_millis": 4,
    "deepnote_to_be_reexecuted": false,
    "execution_start": 1613274052010,
    "deepnote_cell_type": "code"
   },
   "source": "allNames = list(set(teamsdf['cleanName']) | set(fbdf['cleanName']) | set(numMentions.keys()))",
   "execution_count": null,
   "outputs": []
  },
  {
   "cell_type": "code",
   "metadata": {
    "tags": [],
    "cell_id": "00016-f1dccba4-d503-4894-80cd-c294447aa6a7",
    "output_cleared": false,
    "source_hash": "af775ed0",
    "execution_millis": 16,
    "deepnote_to_be_reexecuted": false,
    "execution_start": 1613274052046,
    "deepnote_cell_type": "code"
   },
   "source": "len(allNames)",
   "execution_count": null,
   "outputs": [
    {
     "output_type": "execute_result",
     "execution_count": 18,
     "data": {
      "text/plain": "5310"
     },
     "metadata": {}
    }
   ]
  },
  {
   "cell_type": "code",
   "metadata": {
    "tags": [],
    "cell_id": "00006-c014ecb8-5806-495d-9d30-72f2bbaa668f",
    "output_cleared": false,
    "source_hash": "e80f0a21",
    "execution_millis": 1,
    "deepnote_to_be_reexecuted": false,
    "execution_start": 1613274052047,
    "deepnote_cell_type": "code"
   },
   "source": "df_builder = {\n    'name': [],\n    'numMentions': [],\n    'gender': [],\n    'team': [],\n    'house': [],\n    'year': [],\n}\nfor cleanName in allNames:\n    df_builder['name'].append(cleanName)\n    df_builder['numMentions'].append(numMentions.get(cleanName) or 0)\n    df_builder['gender'].append(genderDict.get(cleanName))\n    df_builder['team'].append(teamDict.get(cleanName))\n    df_builder['house'].append(houseDict.get(cleanName))\n    df_builder['year'].append(yearDict.get(cleanName))\n    ",
   "execution_count": null,
   "outputs": []
  },
  {
   "cell_type": "code",
   "metadata": {
    "tags": [],
    "cell_id": "00016-e78b453a-74fe-4f41-8be7-b0eb2fd57b90",
    "output_cleared": false,
    "source_hash": "7c91a04b",
    "execution_millis": 0,
    "deepnote_to_be_reexecuted": false,
    "execution_start": 1613274052048,
    "deepnote_cell_type": "code"
   },
   "source": "df = pd.DataFrame(df_builder)",
   "execution_count": null,
   "outputs": []
  },
  {
   "cell_type": "code",
   "metadata": {
    "tags": [],
    "cell_id": "00020-62f902e2-e327-4f4a-9116-de7c0978a21e",
    "deepnote_to_be_reexecuted": false,
    "source_hash": "2f88c77a",
    "execution_millis": 18,
    "execution_start": 1613274052050,
    "deepnote_cell_type": "code"
   },
   "source": "len(df)",
   "execution_count": null,
   "outputs": [
    {
     "output_type": "execute_result",
     "execution_count": 21,
     "data": {
      "text/plain": "5310"
     },
     "metadata": {}
    }
   ]
  },
  {
   "cell_type": "code",
   "metadata": {
    "tags": [],
    "cell_id": "00020-6ed4d119-fb32-45c0-ab75-c99bb57eed61",
    "output_cleared": false,
    "source_hash": "87b405f4",
    "execution_millis": 10,
    "deepnote_to_be_reexecuted": false,
    "execution_start": 1613274052059,
    "deepnote_cell_type": "code"
   },
   "source": "df['house'] = df['house'].replace(['Pfoho'],'Pforzheimer')\ndf['house'].value_counts()",
   "execution_count": null,
   "outputs": [
    {
     "output_type": "execute_result",
     "execution_count": 22,
     "data": {
      "text/plain": "Quincy              249\nKirkland            238\nLeverett            238\nEliot               236\nLowell              235\nWinthrop            232\nMather              225\nAdams               224\nCabot               217\nDunster             211\nPforzheimer         209\nCurrier             195\nWigglesworth         75\nCanaday              60\nMcKinlock            41\nGrays                36\nElm Yard             36\nStraus               36\nCrimson Yard         31\nDudley Community     31\nWeld                 31\nIvy Yard             28\nHolworthy            27\nOak Yard             27\nGreenough            22\nLionel               18\nThayer               17\nHollis               16\nHurlbut              15\nMatthews             14\nMower                14\nStoughton            14\nApley                11\nMassachusetts         2\nName: house, dtype: int64"
     },
     "metadata": {}
    }
   ]
  },
  {
   "cell_type": "code",
   "metadata": {
    "tags": [],
    "cell_id": "00017-3142a66d-6bfb-419c-8fb9-96677f4bd438",
    "output_cleared": false,
    "source_hash": "c085b6ba",
    "execution_millis": 8,
    "deepnote_to_be_reexecuted": false,
    "execution_start": 1613274052090,
    "deepnote_cell_type": "code"
   },
   "source": "df.head()",
   "execution_count": null,
   "outputs": [
    {
     "output_type": "execute_result",
     "execution_count": 23,
     "data": {
      "application/vnd.deepnote.dataframe.v2+json": {
       "row_count": 5,
       "column_count": 6,
       "columns": [
        {
         "name": "name",
         "dtype": "object",
         "stats": {
          "unique_count": 5,
          "nan_count": 0,
          "categories": [
           {
            "name": "rebecca hayes",
            "count": 1
           },
           {
            "name": "kale catchings",
            "count": 1
           },
           {
            "name": "3 others",
            "count": 3
           }
          ]
         }
        },
        {
         "name": "numMentions",
         "dtype": "int64",
         "stats": {
          "unique_count": 2,
          "nan_count": 0,
          "min": 0,
          "max": 9,
          "histogram": [
           {
            "bin_start": 0,
            "bin_end": 0.9,
            "count": 4
           },
           {
            "bin_start": 0.9,
            "bin_end": 1.8,
            "count": 0
           },
           {
            "bin_start": 1.8,
            "bin_end": 2.7,
            "count": 0
           },
           {
            "bin_start": 2.7,
            "bin_end": 3.6,
            "count": 0
           },
           {
            "bin_start": 3.6,
            "bin_end": 4.5,
            "count": 0
           },
           {
            "bin_start": 4.5,
            "bin_end": 5.4,
            "count": 0
           },
           {
            "bin_start": 5.4,
            "bin_end": 6.3,
            "count": 0
           },
           {
            "bin_start": 6.3,
            "bin_end": 7.2,
            "count": 0
           },
           {
            "bin_start": 7.2,
            "bin_end": 8.1,
            "count": 0
           },
           {
            "bin_start": 8.1,
            "bin_end": 9,
            "count": 1
           }
          ]
         }
        },
        {
         "name": "gender",
         "dtype": "float64",
         "stats": {
          "unique_count": 2,
          "nan_count": 3,
          "min": 0,
          "max": 0.5,
          "histogram": [
           {
            "bin_start": 0,
            "bin_end": 0.05,
            "count": 1
           },
           {
            "bin_start": 0.05,
            "bin_end": 0.1,
            "count": 0
           },
           {
            "bin_start": 0.1,
            "bin_end": 0.15000000000000002,
            "count": 0
           },
           {
            "bin_start": 0.15000000000000002,
            "bin_end": 0.2,
            "count": 0
           },
           {
            "bin_start": 0.2,
            "bin_end": 0.25,
            "count": 0
           },
           {
            "bin_start": 0.25,
            "bin_end": 0.30000000000000004,
            "count": 0
           },
           {
            "bin_start": 0.30000000000000004,
            "bin_end": 0.35000000000000003,
            "count": 0
           },
           {
            "bin_start": 0.35000000000000003,
            "bin_end": 0.4,
            "count": 0
           },
           {
            "bin_start": 0.4,
            "bin_end": 0.45,
            "count": 0
           },
           {
            "bin_start": 0.45,
            "bin_end": 0.5,
            "count": 1
           }
          ]
         }
        },
        {
         "name": "team",
         "dtype": "object",
         "stats": {
          "unique_count": 2,
          "nan_count": 3,
          "categories": [
           {
            "name": "basketball",
            "count": 1
           },
           {
            "name": "sailing",
            "count": 1
           },
           {
            "name": "Missing",
            "count": 3
           }
          ]
         }
        },
        {
         "name": "house",
         "dtype": "object",
         "stats": {
          "unique_count": 4,
          "nan_count": 1,
          "categories": [
           {
            "name": "Pforzheimer",
            "count": 1
           },
           {
            "name": "3 others",
            "count": 3
           },
           {
            "name": "Missing",
            "count": 1
           }
          ]
         }
        },
        {
         "name": "year",
         "dtype": "object",
         "stats": {
          "unique_count": 3,
          "nan_count": 1,
          "categories": [
           {
            "name": "Class of 2023",
            "count": 2
           },
           {
            "name": "2 others",
            "count": 2
           },
           {
            "name": "Missing",
            "count": 1
           }
          ]
         }
        },
        {
         "name": "_deepnote_index_column",
         "dtype": "int64"
        }
       ],
       "rows_top": [
        {
         "name": "rebecca hayes",
         "numMentions": 0,
         "gender": "nan",
         "team": "nan",
         "house": "Pforzheimer",
         "year": "Class of 2023",
         "_deepnote_index_column": 0
        },
        {
         "name": "kale catchings",
         "numMentions": 9,
         "gender": "0.0",
         "team": "basketball",
         "house": "Lowell",
         "year": "Class of 2022",
         "_deepnote_index_column": 1
        },
        {
         "name": "elliott hyman",
         "numMentions": 0,
         "gender": "nan",
         "team": "nan",
         "house": "Currier",
         "year": "Class of 2023",
         "_deepnote_index_column": 2
        },
        {
         "name": "kofi kwapong",
         "numMentions": 0,
         "gender": "nan",
         "team": "nan",
         "house": "Leverett",
         "year": "Class of 2021",
         "_deepnote_index_column": 3
        },
        {
         "name": "alex lee",
         "numMentions": 0,
         "gender": "0.5",
         "team": "sailing",
         "house": "nan",
         "year": "nan",
         "_deepnote_index_column": 4
        }
       ],
       "rows_bottom": null
      },
      "text/plain": "             name  numMentions  gender        team        house           year\n0   rebecca hayes            0     NaN        None  Pforzheimer  Class of 2023\n1  kale catchings            9     0.0  basketball       Lowell  Class of 2022\n2   elliott hyman            0     NaN        None      Currier  Class of 2023\n3    kofi kwapong            0     NaN        None     Leverett  Class of 2021\n4        alex lee            0     0.5     sailing         None           None",
      "text/html": "<div>\n<style scoped>\n    .dataframe tbody tr th:only-of-type {\n        vertical-align: middle;\n    }\n\n    .dataframe tbody tr th {\n        vertical-align: top;\n    }\n\n    .dataframe thead th {\n        text-align: right;\n    }\n</style>\n<table border=\"1\" class=\"dataframe\">\n  <thead>\n    <tr style=\"text-align: right;\">\n      <th></th>\n      <th>name</th>\n      <th>numMentions</th>\n      <th>gender</th>\n      <th>team</th>\n      <th>house</th>\n      <th>year</th>\n    </tr>\n  </thead>\n  <tbody>\n    <tr>\n      <th>0</th>\n      <td>rebecca hayes</td>\n      <td>0</td>\n      <td>NaN</td>\n      <td>None</td>\n      <td>Pforzheimer</td>\n      <td>Class of 2023</td>\n    </tr>\n    <tr>\n      <th>1</th>\n      <td>kale catchings</td>\n      <td>9</td>\n      <td>0.0</td>\n      <td>basketball</td>\n      <td>Lowell</td>\n      <td>Class of 2022</td>\n    </tr>\n    <tr>\n      <th>2</th>\n      <td>elliott hyman</td>\n      <td>0</td>\n      <td>NaN</td>\n      <td>None</td>\n      <td>Currier</td>\n      <td>Class of 2023</td>\n    </tr>\n    <tr>\n      <th>3</th>\n      <td>kofi kwapong</td>\n      <td>0</td>\n      <td>NaN</td>\n      <td>None</td>\n      <td>Leverett</td>\n      <td>Class of 2021</td>\n    </tr>\n    <tr>\n      <th>4</th>\n      <td>alex lee</td>\n      <td>0</td>\n      <td>0.5</td>\n      <td>sailing</td>\n      <td>None</td>\n      <td>None</td>\n    </tr>\n  </tbody>\n</table>\n</div>"
     },
     "metadata": {}
    }
   ]
  },
  {
   "cell_type": "code",
   "metadata": {
    "tags": [],
    "cell_id": "00018-10e5a120-fa78-463d-b5f8-ebf767e45c14",
    "output_cleared": false,
    "source_hash": "f88152d9",
    "execution_millis": 55,
    "deepnote_to_be_reexecuted": false,
    "execution_start": 1613274052093,
    "deepnote_cell_type": "code"
   },
   "source": "df.describe()",
   "execution_count": null,
   "outputs": [
    {
     "output_type": "execute_result",
     "execution_count": 24,
     "data": {
      "application/vnd.deepnote.dataframe.v2+json": {
       "row_count": 8,
       "column_count": 2,
       "columns": [
        {
         "name": "numMentions",
         "dtype": "float64",
         "stats": {
          "unique_count": 5,
          "nan_count": 0,
          "min": 0,
          "max": 5310,
          "histogram": [
           {
            "bin_start": 0,
            "bin_end": 531,
            "count": 7
           },
           {
            "bin_start": 531,
            "bin_end": 1062,
            "count": 0
           },
           {
            "bin_start": 1062,
            "bin_end": 1593,
            "count": 0
           },
           {
            "bin_start": 1593,
            "bin_end": 2124,
            "count": 0
           },
           {
            "bin_start": 2124,
            "bin_end": 2655,
            "count": 0
           },
           {
            "bin_start": 2655,
            "bin_end": 3186,
            "count": 0
           },
           {
            "bin_start": 3186,
            "bin_end": 3717,
            "count": 0
           },
           {
            "bin_start": 3717,
            "bin_end": 4248,
            "count": 0
           },
           {
            "bin_start": 4248,
            "bin_end": 4779,
            "count": 0
           },
           {
            "bin_start": 4779,
            "bin_end": 5310,
            "count": 1
           }
          ]
         }
        },
        {
         "name": "gender",
         "dtype": "float64",
         "stats": {
          "unique_count": 5,
          "nan_count": 0,
          "min": 0,
          "max": 668,
          "histogram": [
           {
            "bin_start": 0,
            "bin_end": 66.8,
            "count": 7
           },
           {
            "bin_start": 66.8,
            "bin_end": 133.6,
            "count": 0
           },
           {
            "bin_start": 133.6,
            "bin_end": 200.39999999999998,
            "count": 0
           },
           {
            "bin_start": 200.39999999999998,
            "bin_end": 267.2,
            "count": 0
           },
           {
            "bin_start": 267.2,
            "bin_end": 334,
            "count": 0
           },
           {
            "bin_start": 334,
            "bin_end": 400.79999999999995,
            "count": 0
           },
           {
            "bin_start": 400.79999999999995,
            "bin_end": 467.59999999999997,
            "count": 0
           },
           {
            "bin_start": 467.59999999999997,
            "bin_end": 534.4,
            "count": 0
           },
           {
            "bin_start": 534.4,
            "bin_end": 601.1999999999999,
            "count": 0
           },
           {
            "bin_start": 601.1999999999999,
            "bin_end": 668,
            "count": 1
           }
          ]
         }
        },
        {
         "name": "_deepnote_index_column",
         "dtype": "object"
        }
       ],
       "rows_top": [
        {
         "numMentions": 5310,
         "gender": 668,
         "_deepnote_index_column": "count"
        },
        {
         "numMentions": 1.2340866290018833,
         "gender": 0.4416167664670659,
         "_deepnote_index_column": "mean"
        },
        {
         "numMentions": 8.700777438348412,
         "gender": 0.48550666573908624,
         "_deepnote_index_column": "std"
        },
        {
         "numMentions": 0,
         "gender": 0,
         "_deepnote_index_column": "min"
        },
        {
         "numMentions": 0,
         "gender": 0,
         "_deepnote_index_column": "25%"
        },
        {
         "numMentions": 0,
         "gender": 0,
         "_deepnote_index_column": "50%"
        },
        {
         "numMentions": 0,
         "gender": 1,
         "_deepnote_index_column": "75%"
        },
        {
         "numMentions": 237,
         "gender": 1,
         "_deepnote_index_column": "max"
        }
       ],
       "rows_bottom": null
      },
      "text/plain": "       numMentions      gender\ncount  5310.000000  668.000000\nmean      1.234087    0.441617\nstd       8.700777    0.485507\nmin       0.000000    0.000000\n25%       0.000000    0.000000\n50%       0.000000    0.000000\n75%       0.000000    1.000000\nmax     237.000000    1.000000",
      "text/html": "<div>\n<style scoped>\n    .dataframe tbody tr th:only-of-type {\n        vertical-align: middle;\n    }\n\n    .dataframe tbody tr th {\n        vertical-align: top;\n    }\n\n    .dataframe thead th {\n        text-align: right;\n    }\n</style>\n<table border=\"1\" class=\"dataframe\">\n  <thead>\n    <tr style=\"text-align: right;\">\n      <th></th>\n      <th>numMentions</th>\n      <th>gender</th>\n    </tr>\n  </thead>\n  <tbody>\n    <tr>\n      <th>count</th>\n      <td>5310.000000</td>\n      <td>668.000000</td>\n    </tr>\n    <tr>\n      <th>mean</th>\n      <td>1.234087</td>\n      <td>0.441617</td>\n    </tr>\n    <tr>\n      <th>std</th>\n      <td>8.700777</td>\n      <td>0.485507</td>\n    </tr>\n    <tr>\n      <th>min</th>\n      <td>0.000000</td>\n      <td>0.000000</td>\n    </tr>\n    <tr>\n      <th>25%</th>\n      <td>0.000000</td>\n      <td>0.000000</td>\n    </tr>\n    <tr>\n      <th>50%</th>\n      <td>0.000000</td>\n      <td>0.000000</td>\n    </tr>\n    <tr>\n      <th>75%</th>\n      <td>0.000000</td>\n      <td>1.000000</td>\n    </tr>\n    <tr>\n      <th>max</th>\n      <td>237.000000</td>\n      <td>1.000000</td>\n    </tr>\n  </tbody>\n</table>\n</div>"
     },
     "metadata": {}
    }
   ]
  },
  {
   "cell_type": "code",
   "metadata": {
    "tags": [],
    "cell_id": "00019-a9e5978a-e3aa-47ce-8618-a907f17ea872",
    "output_cleared": false,
    "source_hash": "286ab4cd",
    "execution_millis": 38,
    "deepnote_to_be_reexecuted": false,
    "execution_start": 1613274052110,
    "deepnote_cell_type": "code"
   },
   "source": "df['year'].value_counts()",
   "execution_count": null,
   "outputs": [
    {
     "output_type": "execute_result",
     "execution_count": 25,
     "data": {
      "text/plain": "Class of 2024    1401\nClass of 2023    1328\nClass of 2021    1288\nClass of 2022    1165\nVisiting           35\nName: year, dtype: int64"
     },
     "metadata": {}
    }
   ]
  },
  {
   "cell_type": "code",
   "metadata": {
    "tags": [],
    "cell_id": "00022-135fe6e0-d374-456b-a482-2f2a45cd4fdc",
    "output_cleared": false,
    "source_hash": "ba3658cd",
    "execution_millis": 26,
    "deepnote_to_be_reexecuted": false,
    "execution_start": 1613274052122,
    "deepnote_cell_type": "code"
   },
   "source": "df['gender'].value_counts()",
   "execution_count": null,
   "outputs": [
    {
     "output_type": "execute_result",
     "execution_count": 26,
     "data": {
      "text/plain": "0.0    358\n1.0    280\n0.5     30\nName: gender, dtype: int64"
     },
     "metadata": {}
    }
   ]
  },
  {
   "cell_type": "code",
   "metadata": {
    "tags": [],
    "cell_id": "00023-56381fde-d6d2-4442-9a06-4d8bc253d175",
    "output_cleared": false,
    "source_hash": "ff35ccf2",
    "execution_millis": 22,
    "deepnote_to_be_reexecuted": false,
    "execution_start": 1613274052126,
    "deepnote_cell_type": "code"
   },
   "source": "df['team'].value_counts()",
   "execution_count": null,
   "outputs": [
    {
     "output_type": "execute_result",
     "execution_count": 27,
     "data": {
      "text/plain": "football              96\ntrack                 67\nswimming              49\nlightweight rowing    47\nheavyweight rowing    45\nlacrosse              41\nsoccer                40\nice hockey            29\nbasketball            28\nbaseball              27\nwater polo            26\nwrestling             24\nrugby                 24\ntennis                22\nvolleyball            21\nsailing               18\nfencing               15\nsquash                15\nskiing                12\nfield hockey          11\ngolf                   9\ncross country          2\nName: team, dtype: int64"
     },
     "metadata": {}
    }
   ]
  },
  {
   "cell_type": "code",
   "metadata": {
    "tags": [],
    "cell_id": "00025-feb9dfb9-b99d-4a6e-8376-1df75470d23c",
    "output_cleared": false,
    "source_hash": "13ac3782",
    "execution_millis": 28,
    "deepnote_to_be_reexecuted": false,
    "execution_start": 1613274052132,
    "deepnote_cell_type": "code"
   },
   "source": "df.groupby('year')['numMentions'].sum()",
   "execution_count": null,
   "outputs": [
    {
     "output_type": "execute_result",
     "execution_count": 28,
     "data": {
      "text/plain": "year\nClass of 2021    3234\nClass of 2022    2212\nClass of 2023     904\nClass of 2024     203\nVisiting            0\nName: numMentions, dtype: int64"
     },
     "metadata": {}
    }
   ]
  },
  {
   "cell_type": "code",
   "metadata": {
    "tags": [],
    "cell_id": "00027-4aa1a8be-594b-4f07-892e-7b811d991b56",
    "output_cleared": false,
    "source_hash": "7bf04418",
    "execution_millis": 326,
    "deepnote_to_be_reexecuted": false,
    "execution_start": 1613274052140,
    "deepnote_cell_type": "code"
   },
   "source": "writersdf.groupby('Writer')['Mentions'].mean().plot.bar()\nplt.title('Average mentions for Crimson staff writers')\nplt.xticks(np.arange(2), ['Non-writers', 'Writers'])\nplt.tight_layout()\nplt.savefig('writers.pdf', dpi=400)",
   "execution_count": null,
   "outputs": [
    {
     "data": {
      "text/plain": "<Figure size 432x288 with 1 Axes>",
      "image/png": "[encoded data removed]"
     },
     "metadata": {
      "image/png": {
       "width": 424,
       "height": 280
      }
     },
     "output_type": "display_data"
    }
   ]
  },
  {
   "cell_type": "code",
   "metadata": {
    "tags": [],
    "cell_id": "00028-13c4c8ae-6f19-4f6d-9231-24cfd7ed0db5",
    "output_cleared": false,
    "source_hash": "1ab9e5b5",
    "execution_millis": 8,
    "deepnote_to_be_reexecuted": false,
    "execution_start": 1613274052467,
    "deepnote_cell_type": "code"
   },
   "source": "writersdf.groupby('Writer')['Mentions'].mean()",
   "execution_count": null,
   "outputs": [
    {
     "output_type": "execute_result",
     "execution_count": 30,
     "data": {
      "text/plain": "Writer\n0     3.066462\n1    13.964567\nName: Mentions, dtype: float64"
     },
     "metadata": {}
    }
   ]
  },
  {
   "cell_type": "code",
   "metadata": {
    "tags": [],
    "cell_id": "00024-502ab77e-093f-4ddc-a1cc-cd1e7734a6d5",
    "output_cleared": false,
    "source_hash": "99b10a00",
    "execution_millis": 127,
    "deepnote_to_be_reexecuted": false,
    "execution_start": 1613274052473,
    "deepnote_cell_type": "code"
   },
   "source": "df.groupby('year')['numMentions'].sum().plot.bar()",
   "execution_count": null,
   "outputs": [
    {
     "output_type": "execute_result",
     "execution_count": 31,
     "data": {
      "text/plain": "<AxesSubplot:xlabel='year'>"
     },
     "metadata": {}
    },
    {
     "data": {
      "text/plain": "<Figure size 432x288 with 1 Axes>",
      "image/png": "[encoded data removed]"
     },
     "metadata": {
      "image/png": {
       "width": 381,
       "height": 323
      }
     },
     "output_type": "display_data"
    }
   ]
  },
  {
   "cell_type": "code",
   "metadata": {
    "tags": [],
    "cell_id": "00025-3610bf58-4a87-43e9-b836-b965c75524b9",
    "output_cleared": false,
    "source_hash": "1010d8a",
    "execution_millis": 444,
    "deepnote_to_be_reexecuted": false,
    "execution_start": 1613274052601,
    "deepnote_cell_type": "code"
   },
   "source": "df.groupby('team')['numMentions'].sum().sort_values(0, ascending=False).plot.bar()\nplt.title('Total Crimson Mentions by Sports Team')\nplt.tight_layout()\nplt.savefig('teams.pdf', dpi=400)",
   "execution_count": null,
   "outputs": [
    {
     "data": {
      "text/plain": "<Figure size 432x288 with 1 Axes>",
      "image/png": "[encoded data removed]"
     },
     "metadata": {
      "image/png": {
       "width": 424,
       "height": 280
      }
     },
     "output_type": "display_data"
    }
   ]
  },
  {
   "cell_type": "code",
   "metadata": {
    "tags": [],
    "cell_id": "00029-abdde812-4f83-4bca-b3ee-af0c9c473342",
    "output_cleared": false,
    "source_hash": "63a00ddb",
    "execution_millis": 7,
    "deepnote_to_be_reexecuted": false,
    "execution_start": 1613274053049,
    "deepnote_cell_type": "code"
   },
   "source": "df.groupby('team')['numMentions'].sum().sort_values(0, ascending=False)",
   "execution_count": null,
   "outputs": [
    {
     "output_type": "execute_result",
     "execution_count": 33,
     "data": {
      "text/plain": "team\nbasketball            249\nice hockey            182\nfootball              157\ntrack                 134\ntennis                 85\nsoccer                 72\nfield hockey           50\nvolleyball             47\nswimming               45\ngolf                   38\nlacrosse               36\nrugby                  35\nwater polo             34\nsquash                 24\nfencing                23\nbaseball               22\nsailing                21\nwrestling              18\nlightweight rowing     13\nheavyweight rowing      5\nskiing                  3\ncross country           0\nName: numMentions, dtype: int64"
     },
     "metadata": {}
    }
   ]
  },
  {
   "cell_type": "code",
   "metadata": {
    "tags": [],
    "cell_id": "00026-924bc06c-0928-4842-86e9-0d7a453a4cc3",
    "output_cleared": false,
    "source_hash": "a912357f",
    "execution_millis": 273,
    "deepnote_to_be_reexecuted": false,
    "execution_start": 1613274053054,
    "deepnote_cell_type": "code"
   },
   "source": "df.groupby('year')['numMentions'].sum().plot.bar()\nplt.title('Total Crimson Mentions by Year')\nplt.tight_layout()\nplt.savefig('years.pdf', dpi=400)",
   "execution_count": null,
   "outputs": [
    {
     "data": {
      "text/plain": "<Figure size 432x288 with 1 Axes>",
      "image/png": "[encoded data removed]"
     },
     "metadata": {
      "image/png": {
       "width": 424,
       "height": 280
      }
     },
     "output_type": "display_data"
    }
   ]
  },
  {
   "cell_type": "code",
   "metadata": {
    "tags": [],
    "cell_id": "00031-3608835d-482c-4230-ab1d-acbf543a8671",
    "output_cleared": false,
    "source_hash": "2929820a",
    "execution_millis": 6,
    "deepnote_to_be_reexecuted": false,
    "execution_start": 1613274053323,
    "deepnote_cell_type": "code"
   },
   "source": "df.groupby('house')['numMentions'].mean().sort_values(ascending=False)",
   "execution_count": null,
   "outputs": [
    {
     "output_type": "execute_result",
     "execution_count": 35,
     "data": {
      "text/plain": "house\nAdams               2.982143\nQuincy              1.863454\nLowell              1.787234\nMather              1.400000\nCurrier             1.307692\nCabot               1.216590\nKirkland            1.180672\nLeverett            0.957983\nWinthrop            0.956897\nDunster             0.924171\nPforzheimer         0.760766\nEliot               0.703390\nDudley Community    0.290323\nGreenough           0.227273\nElm Yard            0.166667\nMcKinlock           0.121951\nWeld                0.096774\nApley               0.090909\nMower               0.071429\nCanaday             0.066667\nOak Yard            0.037037\nCrimson Yard        0.032258\nGrays               0.027778\nStraus              0.027778\nWigglesworth        0.013333\nMatthews            0.000000\nHolworthy           0.000000\nMassachusetts       0.000000\nLionel              0.000000\nIvy Yard            0.000000\nStoughton           0.000000\nThayer              0.000000\nHurlbut             0.000000\nHollis              0.000000\nName: numMentions, dtype: float64"
     },
     "metadata": {}
    }
   ]
  },
  {
   "cell_type": "code",
   "metadata": {
    "tags": [],
    "cell_id": "00027-df25975a-4e47-4ef1-8fd0-da805b33b7c9",
    "output_cleared": false,
    "source_hash": "2481f25f",
    "execution_millis": 611,
    "deepnote_to_be_reexecuted": false,
    "execution_start": 1613274053331,
    "deepnote_cell_type": "code"
   },
   "source": "house_df = df.groupby('house')['numMentions'].mean().sort_values(ascending=False)\n# house_df = house_df[house_df > 50] #filter out small houses\nhouse_df.plot.bar()\nplt.title('Average Crimson Mentions by House')\nplt.tight_layout()\nplt.savefig('cleanHousesScaled.pdf', dpi=400)",
   "execution_count": null,
   "outputs": [
    {
     "data": {
      "text/plain": "<Figure size 432x288 with 1 Axes>",
      "image/png": "[encoded data removed]"
     },
     "metadata": {
      "image/png": {
       "width": 415,
       "height": 280
      }
     },
     "output_type": "display_data"
    }
   ]
  },
  {
   "cell_type": "code",
   "metadata": {
    "tags": [],
    "cell_id": "00030-85704899-d3bc-43cd-9f4a-fff76db61170",
    "output_cleared": false,
    "source_hash": "57eff826",
    "execution_millis": 9,
    "deepnote_to_be_reexecuted": false,
    "execution_start": 1613274053946,
    "deepnote_cell_type": "code"
   },
   "source": "print(df)",
   "execution_count": null,
   "outputs": [
    {
     "name": "stdout",
     "text": "                    name  numMentions  gender        team         house  \\\n0          rebecca hayes            0     NaN        None   Pforzheimer   \n1         kale catchings            9     0.0  basketball        Lowell   \n2          elliott hyman            0     NaN        None       Currier   \n3           kofi kwapong            0     NaN        None      Leverett   \n4               alex lee            0     0.5     sailing          None   \n...                  ...          ...     ...         ...           ...   \n5305        kylie hilton            1     1.0       track         Cabot   \n5306  stephanie sanjines            0     NaN        None           NaN   \n5307     opeyemi olubajo            0     NaN        None  Crimson Yard   \n5308            mina lee            0     NaN        None       Dunster   \n5309       derek mullahy            0     0.0  ice hockey         Apley   \n\n               year  \n0     Class of 2023  \n1     Class of 2022  \n2     Class of 2023  \n3     Class of 2021  \n4              None  \n...             ...  \n5305  Class of 2022  \n5306  Class of 2023  \n5307  Class of 2024  \n5308  Class of 2023  \n5309  Class of 2024  \n\n[5310 rows x 6 columns]\n",
     "output_type": "stream"
    }
   ]
  },
  {
   "cell_type": "code",
   "metadata": {
    "tags": [],
    "cell_id": "00035-883a12e9-cd06-44d8-b544-3d8adc644dd4",
    "output_cleared": false,
    "source_hash": "e6fb0c69",
    "execution_millis": 12,
    "deepnote_to_be_reexecuted": false,
    "execution_start": 1613274053953,
    "deepnote_cell_type": "code"
   },
   "source": "numAthletes = len(df[pd.notna(df['team'])])\nnumAthletes",
   "execution_count": null,
   "outputs": [
    {
     "output_type": "execute_result",
     "execution_count": 38,
     "data": {
      "text/plain": "668"
     },
     "metadata": {}
    }
   ]
  },
  {
   "cell_type": "code",
   "metadata": {
    "tags": [],
    "cell_id": "00037-650a0810-2334-4670-a25d-299a4fbb1068",
    "deepnote_to_be_reexecuted": false,
    "source_hash": "8006a98e",
    "execution_millis": 7,
    "execution_start": 1613274053961,
    "deepnote_cell_type": "code"
   },
   "source": "numNarps = len(df[pd.isna(df['team'])])\nnumNarps",
   "execution_count": null,
   "outputs": [
    {
     "output_type": "execute_result",
     "execution_count": 39,
     "data": {
      "text/plain": "4642"
     },
     "metadata": {}
    }
   ]
  },
  {
   "cell_type": "code",
   "metadata": {
    "tags": [],
    "cell_id": "00038-7ef487d8-bc81-404e-bb4d-3532135e8a5c",
    "deepnote_to_be_reexecuted": false,
    "source_hash": "83ef54cb",
    "execution_millis": 1,
    "execution_start": 1613274053979,
    "deepnote_cell_type": "code"
   },
   "source": "numStuds = len(df)",
   "execution_count": null,
   "outputs": []
  },
  {
   "cell_type": "code",
   "metadata": {
    "tags": [],
    "cell_id": "00040-a4235770-e0fc-4208-a980-308ea1cdcbff",
    "deepnote_to_be_reexecuted": false,
    "source_hash": "2f74b679",
    "execution_millis": 6,
    "execution_start": 1613274053980,
    "deepnote_cell_type": "code"
   },
   "source": "athleteProp = numAthletes /  numStuds\nathleteProp",
   "execution_count": null,
   "outputs": [
    {
     "output_type": "execute_result",
     "execution_count": 41,
     "data": {
      "text/plain": "0.12580037664783428"
     },
     "metadata": {}
    }
   ]
  },
  {
   "cell_type": "code",
   "metadata": {
    "tags": [],
    "cell_id": "00041-e28a552a-c30b-4687-b6b7-6f2faaf860f6",
    "deepnote_to_be_reexecuted": false,
    "source_hash": "190ce7ab",
    "execution_millis": 5,
    "execution_start": 1613274053981,
    "deepnote_cell_type": "code"
   },
   "source": "totalAthleteMentions = df[~pd.isna(df['team'])]['numMentions'].sum()\ntotalAthleteMentions",
   "execution_count": null,
   "outputs": [
    {
     "output_type": "execute_result",
     "execution_count": 42,
     "data": {
      "text/plain": "1293"
     },
     "metadata": {}
    }
   ]
  },
  {
   "cell_type": "code",
   "metadata": {
    "tags": [],
    "cell_id": "00042-bb4a4dd8-15c7-4fa5-adb3-49481d63b208",
    "deepnote_to_be_reexecuted": false,
    "source_hash": "af5d9132",
    "execution_millis": 9,
    "execution_start": 1613274053983,
    "deepnote_cell_type": "code"
   },
   "source": "totalNarpMentions = df[pd.isna(df['team'])]['numMentions'].sum()\ntotalNarpMentions",
   "execution_count": null,
   "outputs": [
    {
     "output_type": "execute_result",
     "execution_count": 43,
     "data": {
      "text/plain": "5260"
     },
     "metadata": {}
    }
   ]
  },
  {
   "cell_type": "code",
   "metadata": {
    "tags": [],
    "cell_id": "00043-240f890f-ac52-4c97-b1a3-ae4eca694e2e",
    "deepnote_to_be_reexecuted": false,
    "source_hash": "cac9406c",
    "execution_millis": 8,
    "execution_start": 1613274054009,
    "deepnote_cell_type": "code"
   },
   "source": "n = totalAthleteMentions + totalNarpMentions\nn",
   "execution_count": null,
   "outputs": [
    {
     "output_type": "execute_result",
     "execution_count": 44,
     "data": {
      "text/plain": "6553"
     },
     "metadata": {}
    }
   ]
  },
  {
   "cell_type": "code",
   "metadata": {
    "tags": [],
    "cell_id": "00044-80ef2340-c3c0-49d0-9bca-bed2f3393c49",
    "deepnote_to_be_reexecuted": false,
    "source_hash": "3f60af28",
    "execution_millis": 7,
    "execution_start": 1613274054010,
    "deepnote_cell_type": "code"
   },
   "source": "mu = n * athleteProp\nmu",
   "execution_count": null,
   "outputs": [
    {
     "output_type": "execute_result",
     "execution_count": 45,
     "data": {
      "text/plain": "824.369868173258"
     },
     "metadata": {}
    }
   ]
  },
  {
   "cell_type": "code",
   "metadata": {
    "tags": [],
    "cell_id": "00045-a83ffc7f-83b4-49aa-ace6-eb7862b0b4a7",
    "deepnote_to_be_reexecuted": false,
    "source_hash": "c9afb5aa",
    "execution_millis": 7,
    "execution_start": 1613274054010,
    "deepnote_cell_type": "code"
   },
   "source": "var = mu * (1 - athleteProp)\nvar",
   "execution_count": null,
   "outputs": [
    {
     "output_type": "execute_result",
     "execution_count": 46,
     "data": {
      "text/plain": "720.6638282599367"
     },
     "metadata": {}
    }
   ]
  },
  {
   "cell_type": "code",
   "metadata": {
    "tags": [],
    "cell_id": "00046-6d308400-a8c3-4577-a59a-d1950e043d06",
    "deepnote_to_be_reexecuted": false,
    "source_hash": "f99a583a",
    "execution_millis": 6,
    "execution_start": 1613274054013,
    "deepnote_cell_type": "code"
   },
   "source": "sigma = var**.5\nsigma",
   "execution_count": null,
   "outputs": [
    {
     "output_type": "execute_result",
     "execution_count": 47,
     "data": {
      "text/plain": "26.845182589431882"
     },
     "metadata": {}
    }
   ]
  },
  {
   "cell_type": "code",
   "metadata": {
    "tags": [],
    "cell_id": "00047-8e1d8a08-f872-40ff-b5dd-692d9f148e4b",
    "deepnote_to_be_reexecuted": false,
    "source_hash": "1e095009",
    "execution_millis": 6,
    "execution_start": 1613274054058,
    "deepnote_cell_type": "code"
   },
   "source": "z = (totalAthleteMentions - mu) / sigma\nz",
   "execution_count": null,
   "outputs": [
    {
     "output_type": "execute_result",
     "execution_count": 48,
     "data": {
      "text/plain": "17.45676827734549"
     },
     "metadata": {}
    }
   ]
  },
  {
   "cell_type": "code",
   "metadata": {
    "tags": [],
    "cell_id": "00039-3e37b886-d9c1-43c1-9551-166a5bd40104",
    "deepnote_to_be_reexecuted": false,
    "source_hash": "de6033d2",
    "execution_millis": 5,
    "execution_start": 1613274054059,
    "deepnote_cell_type": "code"
   },
   "source": "len(df.name.unique())",
   "execution_count": null,
   "outputs": [
    {
     "output_type": "execute_result",
     "execution_count": 49,
     "data": {
      "text/plain": "5310"
     },
     "metadata": {}
    }
   ]
  },
  {
   "cell_type": "code",
   "metadata": {
    "tags": [],
    "cell_id": "00033-71ecaa0f-06c5-4d97-8be4-5441f608c8f9",
    "output_cleared": false,
    "source_hash": "f84a241c",
    "execution_millis": 242,
    "deepnote_to_be_reexecuted": false,
    "execution_start": 1613274054060,
    "deepnote_cell_type": "code"
   },
   "source": "nonAthleteMentions = df[pd.isna(df['team'])]['numMentions'].mean()\nathleteMentions = df[~pd.isna(df['team'])]['numMentions'].mean()\ntoPlot = pd.Series(data=[athleteMentions, nonAthleteMentions], index=pd.Index(['Athletes', 'Non-Athletes'], name='Athlete Status'))\ntoPlot.plot.bar()\nplt.title('Average Athlete vs Non-Athlete Crimson Mentions')\nplt.tight_layout()\nplt.savefig('athletes.pdf', dpi=400)\n",
   "execution_count": null,
   "outputs": [
    {
     "data": {
      "text/plain": "<Figure size 432x288 with 1 Axes>",
      "image/png": "[encoded data removed]"
     },
     "metadata": {
      "image/png": {
       "width": 418,
       "height": 280
      }
     },
     "output_type": "display_data"
    }
   ]
  },
  {
   "cell_type": "code",
   "metadata": {
    "tags": [],
    "cell_id": "00036-c967320f-9941-4328-8692-ebc3230a988a",
    "output_cleared": false,
    "source_hash": "c6951f85",
    "execution_millis": 16,
    "deepnote_to_be_reexecuted": false,
    "execution_start": 1613274054287,
    "deepnote_cell_type": "code"
   },
   "source": "nonAthleteMentions",
   "execution_count": null,
   "outputs": [
    {
     "output_type": "execute_result",
     "execution_count": 51,
     "data": {
      "text/plain": "1.133132270573029"
     },
     "metadata": {}
    }
   ]
  },
  {
   "cell_type": "code",
   "metadata": {
    "tags": [],
    "cell_id": "00038-ef77e163-db69-4042-924b-465890560fe1",
    "output_cleared": false,
    "source_hash": "19987d90",
    "execution_millis": 10,
    "deepnote_to_be_reexecuted": false,
    "execution_start": 1613274054293,
    "deepnote_cell_type": "code"
   },
   "source": "athleteMentions",
   "execution_count": null,
   "outputs": [
    {
     "output_type": "execute_result",
     "execution_count": 52,
     "data": {
      "text/plain": "1.93562874251497"
     },
     "metadata": {}
    }
   ]
  },
  {
   "cell_type": "code",
   "metadata": {
    "tags": [],
    "cell_id": "00039-90803cd2-4097-444d-827c-1b51d6a196ae",
    "deepnote_to_be_reexecuted": false,
    "source_hash": "b623e53d",
    "execution_millis": 2,
    "execution_start": 1613274054296,
    "deepnote_cell_type": "code"
   },
   "source": "",
   "execution_count": null,
   "outputs": []
  },
  {
   "cell_type": "markdown",
   "source": "<a style='text-decoration:none;line-height:16px;display:flex;color:#5B5B62;padding:10px;justify-content:end;' href='https://deepnote.com?utm_source=created-in-deepnote-cell&projectId=03080ecf-5a60-4397-b627-61e928cf2273' target=\"_blank\">\n<img alt='Created in deepnote.com' style='display:inline;max-height:16px;margin:0px;margin-right:7.5px;' src='data:image/svg+xml;base64,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' > </img>\nCreated in <span style='font-weight:600;margin-left:4px;'>Deepnote</span></a>",
   "metadata": {
    "tags": [],
    "created_in_deepnote_cell": true,
    "deepnote_cell_type": "markdown"
   }
  }
 ],
 "nbformat": 4,
 "nbformat_minor": 2,
 "metadata": {
  "orig_nbformat": 2,
  "deepnote_notebook_id": "600989b5-b885-4e27-84e5-4c890fcac151",
  "deepnote_execution_queue": [],
  "deepnote": {}
 }
}